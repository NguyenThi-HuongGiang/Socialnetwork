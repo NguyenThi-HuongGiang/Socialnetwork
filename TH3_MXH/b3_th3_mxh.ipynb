{
  "nbformat": 4,
  "nbformat_minor": 0,
  "metadata": {
    "colab": {
      "provenance": [],
      "toc_visible": true
    },
    "kernelspec": {
      "name": "python3",
      "display_name": "Python 3"
    },
    "language_info": {
      "name": "python"
    }
  },
  "cells": [
    {
      "cell_type": "markdown",
      "source": [
        "# Yêu cầu\n",
        "* TẠO MỚI Lab03.03\n",
        "* Giới thiệu tổng quan về thuật toán louvain\n",
        "* Tóm tắt tổng quan các chỉ số đánh giá việc phát hiện cộng đồng (công thức, phạm vi, như thế nào là tốt, .... )\n",
        "* Thực hiện phân tích việc (nhận xét) phát hiện cộng đồng cho mạng xã hội tự chọn"
      ],
      "metadata": {
        "id": "ExV8-zzto4ME"
      }
    },
    {
      "cell_type": "markdown",
      "source": [
        "# Thuật toán louvain"
      ],
      "metadata": {
        "id": "FV5n_sf2zVBD"
      }
    },
    {
      "cell_type": "markdown",
      "source": [
        "## Mục tiêu\n",
        "- Thuật toán Louvain tìm cách tối ưu hóa modularity, một thước đo để đánh giá chất lượng của phân hoạch cộng đồng. Modularity phản ánh mức độ các cạnh trong cùng một cộng đồng nhiều hơn so với kỳ vọng ngẫu nhiên. Giá trị modularity nằm trong khoảng từ -1 đến 1, và giá trị càng cao thì cộng đồng càng rõ ràng.\n",
        "\n",
        "\n"
      ],
      "metadata": {
        "id": "hdwQ5VKEzkhx"
      }
    },
    {
      "cell_type": "markdown",
      "source": [
        "## Nguyên lí hoạt động\n",
        " Thuật toán Louvain bao gồm hai giai đoạn chính, lặp lại theo từng cấp độ (level):\n",
        "\n",
        "1.   Giai đoạn tối ưu hóa cục bộ\n",
        "- Mỗi đỉnh ban đầu được xem như một cộng đồng riêng lẻ.\n",
        "- Xem xét lần lượt từng đỉnh và kiểm tra việc di chuyển đỉnh đó sang cộng đồng lân cận nào làm tăng modularity nhiều nhất.\n",
        "- Nếu không có cải thiện modularity khi di chuyển, đỉnh sẽ giữ nguyên cộng đồng ban đầu.\n",
        "\n",
        "2.   Giai đoạn xây dựng lại đồ thị\n",
        "- Sau khi không thể cải thiện modularity trong giai đoạn đầu, mỗi cộng đồng được gom thành một \"siêu đỉnh\".\n",
        "- Các cạnh giữa các siêu đỉnh được tính bằng tổng trọng số các cạnh giữa các đỉnh thuộc cộng đồng tương ứng.\n",
        "\n",
        "Hai giai đoạn này được lặp lại cho đến khi modularity không còn tăng thêm đáng kể, hoặc đạt giá trị tối ưu.\n",
        "\n"
      ],
      "metadata": {
        "id": "Y1xEoB1n0GoR"
      }
    },
    {
      "cell_type": "markdown",
      "source": [
        "## Ưu điểm\n",
        "- Hiệu quả cao: Louvain có độ phức tạp thời gian tuyến tính\n",
        "𝑂\n",
        "(\n",
        "𝑛\n",
        "log\n",
        "⁡\n",
        "𝑛\n",
        ")\n",
        "O(nlogn), phù hợp để xử lý các đồ thị lớn với hàng triệu đỉnh.\n",
        "- Phân cấp cộng đồng: Kết quả của thuật toán không chỉ cung cấp một phân hoạch mà còn thể hiện cấu trúc phân cấp của cộng đồng (community hierarchy).\n",
        "- Khả năng mở rộng: Hoạt động tốt trên đồ thị không trọng số, đồ thị trọng số, và đồ thị định hướng."
      ],
      "metadata": {
        "id": "0D5urRHe03KM"
      }
    },
    {
      "cell_type": "markdown",
      "source": [
        "## Nhược điểm\n",
        "- Phụ thuộc vào thứ tự đỉnh: Kết quả có thể thay đổi nếu thứ tự đỉnh được xử lý khác nhau.\n",
        "- Bẫy cục bộ: Thuật toán có thể dừng lại ở cực trị cục bộ của modularity, dẫn đến việc phát hiện cộng đồng không tối ưu trong một số trường hợp."
      ],
      "metadata": {
        "id": "AYPnE_K31Gpx"
      }
    },
    {
      "cell_type": "markdown",
      "source": [
        "# Các chỉ số đánh giá việc phát hiện cộng đồng"
      ],
      "metadata": {
        "id": "wWxNUH441dH0"
      }
    },
    {
      "cell_type": "code",
      "source": [
        "import pandas as pd\n",
        "\n",
        "# Define metrics summary data\n",
        "metrics_summary = [\n",
        "    {\n",
        "        \"Metric\": \"Modularity\",\n",
        "        # \"Formula\": r\"$Q = \\frac{1}{2m} \\sum_{i,j} \\left[ A_{ij} - \\frac{k_i k_j}{2m} \\right] \\delta(c_i, c_j)$\",\n",
        "        \"Range\": \"[-1, 1]\",\n",
        "        \"Good When\": \"Closer to 1\"\n",
        "    },\n",
        "    {\n",
        "        \"Metric\": \"Conductance\",\n",
        "        # \"Formula\": r\"$\\phi(S) = \\frac{\\text{Cắt}(S, \\bar{S})}{\\min(\\text{Vol}(S), \\text{Vol}(\\bar{S}))}$\",\n",
        "        \"Range\": \"[0, 1]\",\n",
        "        \"Good When\": \"Closer to 0\"\n",
        "    },\n",
        "    {\n",
        "        \"Metric\": \"Normalized Cut\",\n",
        "        # \"Formula\": r\"$\\text{NCut}(S, \\bar{S}) = \\frac{\\text{Cắt}(S, \\bar{S})}{\\text{Vol}(S)} + \\frac{\\text{Cắt}(S, \\bar{S})}{\\text{Vol}(\\bar{S})}$\",\n",
        "        \"Range\": \"> 0\",\n",
        "        \"Good When\": \"Closer to 0\"\n",
        "    },\n",
        "    {\n",
        "        \"Metric\": \"Density\",\n",
        "        # \"Formula\": r\"$\\rho(C) = \\frac{2 |E_C|}{|C| (|C| - 1)}$\",\n",
        "        \"Range\": \"[0, 1]\",\n",
        "        \"Good When\": \"Closer to 1\"\n",
        "    },\n",
        "    {\n",
        "        \"Metric\": \"Silhouette Score\",\n",
        "        # \"Formula\": r\"$S(i) = \\frac{b(i) - a(i)}{\\max(a(i), b(i))}$\",\n",
        "        \"Range\": \"[-1, 1]\",\n",
        "        \"Good When\": \"Closer to 1\"\n",
        "    },\n",
        "    {\n",
        "        \"Metric\": \"Coverage\",\n",
        "        # \"Formula\": r\"$\\text{Coverage} = \\frac{\\text{Tổng trọng số cạnh nội bộ}}{\\text{Tổng trọng số cạnh trong đồ thị}}$\",\n",
        "        \"Range\": \"[0, 1]\",\n",
        "        \"Good When\": \"Closer to 1\"\n",
        "    },\n",
        "    {\n",
        "        \"Metric\": \"Adjusted Rand Index (ARI)\",\n",
        "        # \"Formula\": r\"$\\text{ARI} = \\frac{\\text{Index quan sát - Index ngẫu nhiên}}{\\text{Index tối đa - Index ngẫu nhiên}}$\",\n",
        "        \"Range\": \"[-1, 1]\",\n",
        "        \"Good When\": \"Closer to 1\"\n",
        "    },\n",
        "    {\n",
        "        \"Metric\": \"Purity\",\n",
        "        # \"Formula\": r\"$\\text{Purity} = \\frac{1}{N} \\sum_k \\max_j |C_k \\cap L_j|$\",\n",
        "        \"Range\": \"[0, 1]\",\n",
        "        \"Good When\": \"Closer to 1\"\n",
        "    },\n",
        "]\n",
        "\n",
        "# Create a DataFrame\n",
        "df_metrics_summary = pd.DataFrame(metrics_summary)\n",
        "\n",
        "# Display the DataFrame to the user\n",
        "# import ace_tools as tools; tools.display_dataframe_to_user(name=\"Community Detection Metrics Summary\", dataframe=df_metrics_summary)\n"
      ],
      "metadata": {
        "id": "FXjvjs9n5VXL"
      },
      "execution_count": 8,
      "outputs": []
    },
    {
      "cell_type": "code",
      "source": [
        "from IPython.display import display, HTML\n",
        "\n",
        "# Render DataFrame with LaTeX-like formulas in HTML\n",
        "def render_formula_dataframe(df):\n",
        "    html = \"<table style='border-collapse: collapse; width: 100%;'>\"\n",
        "    html += \"<tr style='background-color: #f2f2f2;'><th>Metric</th><th>Formula</th><th>Range</th><th>Good When</th></tr>\"\n",
        "    for _, row in df.iterrows():\n",
        "        html += f\"<tr style='border: 1px solid black;'>\"\n",
        "        html += f\"<td style='padding: 8px;'>{row['Metric']}</td>\"\n",
        "        # html += f\"<td style='padding: 8px;'>{row['Formula']}</td>\"\n",
        "        html += f\"<td style='padding: 8px;'>{row['Range']}</td>\"\n",
        "        html += f\"<td style='padding: 8px;'>{row['Good When']}</td>\"\n",
        "        html += \"</tr>\"\n",
        "    html += \"</table>\"\n",
        "    display(HTML(html))\n",
        "\n",
        "# Render the DataFrame\n",
        "render_formula_dataframe(df_metrics_summary)\n"
      ],
      "metadata": {
        "colab": {
          "base_uri": "https://localhost:8080/",
          "height": 310
        },
        "id": "VYsgI6CE5RLw",
        "outputId": "7c933fb6-21db-4b8d-f30b-c8c6461729f7"
      },
      "execution_count": 10,
      "outputs": [
        {
          "output_type": "display_data",
          "data": {
            "text/plain": [
              "<IPython.core.display.HTML object>"
            ],
            "text/html": [
              "<table style='border-collapse: collapse; width: 100%;'><tr style='background-color: #f2f2f2;'><th>Metric</th><th>Formula</th><th>Range</th><th>Good When</th></tr><tr style='border: 1px solid black;'><td style='padding: 8px;'>Modularity</td><td style='padding: 8px;'>[-1, 1]</td><td style='padding: 8px;'>Closer to 1</td></tr><tr style='border: 1px solid black;'><td style='padding: 8px;'>Conductance</td><td style='padding: 8px;'>[0, 1]</td><td style='padding: 8px;'>Closer to 0</td></tr><tr style='border: 1px solid black;'><td style='padding: 8px;'>Normalized Cut</td><td style='padding: 8px;'>> 0</td><td style='padding: 8px;'>Closer to 0</td></tr><tr style='border: 1px solid black;'><td style='padding: 8px;'>Density</td><td style='padding: 8px;'>[0, 1]</td><td style='padding: 8px;'>Closer to 1</td></tr><tr style='border: 1px solid black;'><td style='padding: 8px;'>Silhouette Score</td><td style='padding: 8px;'>[-1, 1]</td><td style='padding: 8px;'>Closer to 1</td></tr><tr style='border: 1px solid black;'><td style='padding: 8px;'>Coverage</td><td style='padding: 8px;'>[0, 1]</td><td style='padding: 8px;'>Closer to 1</td></tr><tr style='border: 1px solid black;'><td style='padding: 8px;'>Adjusted Rand Index (ARI)</td><td style='padding: 8px;'>[-1, 1]</td><td style='padding: 8px;'>Closer to 1</td></tr><tr style='border: 1px solid black;'><td style='padding: 8px;'>Purity</td><td style='padding: 8px;'>[0, 1]</td><td style='padding: 8px;'>Closer to 1</td></tr></table>"
            ]
          },
          "metadata": {}
        }
      ]
    },
    {
      "cell_type": "markdown",
      "source": [
        "# Ví dụ minh họa"
      ],
      "metadata": {
        "id": "xUJXoh8I5NPv"
      }
    },
    {
      "cell_type": "code",
      "source": [
        "import networkx as nx\n",
        "import numpy as np\n",
        "from sklearn.metrics import silhouette_score\n",
        "from networkx.algorithms import community\n",
        "\n",
        "# Example graph (you can replace this with your own graph)\n",
        "G = nx.karate_club_graph()\n",
        "\n",
        "# Example partitions (replace with your detected communities)\n",
        "# Each community is a set of nodes\n",
        "partition = [set(c) for c in community.louvain_communities(G)]\n",
        "\n",
        "# Functions for metrics calculation\n",
        "def modularity(G, partition):\n",
        "    return community.modularity(G, partition)\n",
        "\n",
        "def conductance(G, partition):\n",
        "    conductances = []\n",
        "    for comm in partition:\n",
        "        comm_edges = sum(1 for edge in G.edges(comm) if edge[1] in comm)\n",
        "        cut_edges = sum(1 for edge in G.edges(comm) if edge[1] not in comm)\n",
        "        vol_comm = 2 * comm_edges + cut_edges\n",
        "        conductances.append(cut_edges / vol_comm if vol_comm > 0 else 0)\n",
        "    return np.mean(conductances)\n",
        "\n",
        "def normalized_cut(G, partition):\n",
        "    ncut = 0\n",
        "    for comm in partition:\n",
        "        cut_edges = sum(1 for edge in G.edges(comm) if edge[1] not in comm)\n",
        "        vol_comm = sum(degree for node, degree in G.degree(comm))\n",
        "        ncut += (cut_edges / vol_comm) if vol_comm > 0 else 0\n",
        "    return ncut\n",
        "\n",
        "def density(partition, G):\n",
        "    densities = []\n",
        "    for comm in partition:\n",
        "        subgraph = G.subgraph(comm)\n",
        "        n = subgraph.number_of_nodes()\n",
        "        if n > 1:\n",
        "            densities.append(2 * subgraph.number_of_edges() / (n * (n - 1)))\n",
        "        else:\n",
        "            densities.append(0)\n",
        "    return np.mean(densities)\n",
        "\n",
        "def silhouette_score_custom(G, partition):\n",
        "    labels = []\n",
        "    node_to_community = {}\n",
        "    for i, comm in enumerate(partition):\n",
        "        for node in comm:\n",
        "            node_to_community[node] = i\n",
        "    labels = [node_to_community[node] for node in G.nodes()]\n",
        "    adjacency_matrix = nx.to_numpy_array(G)\n",
        "    return silhouette_score(adjacency_matrix, labels)\n",
        "\n",
        "# Calculate metrics\n",
        "metrics = {\n",
        "    \"Modularity\": modularity(G, partition),\n",
        "    \"Conductance\": conductance(G, partition),\n",
        "    \"Normalized Cut\": normalized_cut(G, partition),\n",
        "    \"Density\": density(partition, G),\n",
        "    \"Silhouette Score\": silhouette_score_custom(G, partition),\n",
        "}\n",
        "\n",
        "# Display results\n",
        "print(\"Community Detection Metrics Summary:\")\n",
        "for metric, value in metrics.items():\n",
        "    print(f\"{metric}: {value:.4f}\")\n"
      ],
      "metadata": {
        "colab": {
          "base_uri": "https://localhost:8080/"
        },
        "id": "3DEQXzuc0zhQ",
        "outputId": "974c9ea2-2496-4725-9d5e-60610175a3e8"
      },
      "execution_count": 1,
      "outputs": [
        {
          "output_type": "stream",
          "name": "stdout",
          "text": [
            "Community Detection Metrics Summary:\n",
            "Modularity: 0.4345\n",
            "Conductance: 0.2028\n",
            "Normalized Cut: 0.6083\n",
            "Density: 0.4156\n",
            "Silhouette Score: 0.1061\n"
          ]
        }
      ]
    },
    {
      "cell_type": "markdown",
      "source": [
        "## Nhận xét\n",
        "1. Modularity (0.4345):\n",
        "\n",
        "Giá trị này cho thấy mức độ các cộng đồng trong đồ thị được phân hoạch tốt hơn so với ngẫu nhiên.\n",
        "Với Q=0.4345, đây là một phân hoạch chất lượng khá tốt, vì giá trị thường trên 0.3 là chấp nhận được.\n",
        "\n",
        "2. Conductance (0.2028):\n",
        "\n",
        "Giá trị này khá thấp, cho thấy các cộng đồng được xác định có ranh giới rõ ràng và ít liên kết với các phần còn lại của đồ thị. Conductance càng gần 0 thì chất lượng cộng đồng càng tốt.\n",
        "3. Normalized Cut (0.6083):\n",
        "\n",
        "Giá trị này nằm ở mức trung bình. Normalized Cut càng thấp thì cộng đồng càng ít liên kết với phần còn lại của đồ thị.\n",
        "Với NCut>0.5, có thể thấy rằng ranh giới giữa các cộng đồng vẫn còn một số giao thoa.\n",
        "\n",
        "4. Density (0.4156):\n",
        "\n",
        "Giá trị mật độ khá cao, thể hiện các cộng đồng có mối liên kết nội bộ tương đối chặt chẽ.\n",
        "Với ρ≈0.42, các cộng đồng có mức độ liên kết khá tốt.\n",
        "\n",
        "5. Silhouette Score (0.1061):\n",
        "\n",
        "Giá trị rất thấp, cho thấy các cộng đồng được phân hoạch không rõ ràng khi xem xét khoảng cách giữa các nút.\n",
        "Silhouette Score > 0.25 thường biểu thị phân hoạch hợp lý, do đó cần xem xét lại các phương pháp hoặc thuật toán phân hoạch."
      ],
      "metadata": {
        "id": "4tNtCmsT6gt2"
      }
    }
  ]
}